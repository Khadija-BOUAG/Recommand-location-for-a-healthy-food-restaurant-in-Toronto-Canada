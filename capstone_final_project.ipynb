{
 "cells": [
  {
   "cell_type": "markdown",
   "metadata": {},
   "source": [
    "# Capstone Project - The Battle of Neighborhoods"
   ]
  },
  {
   "cell_type": "markdown",
   "metadata": {},
   "source": [
    "## 1 - Introduction/Business Problem section  :"
   ]
  },
  {
   "cell_type": "markdown",
   "metadata": {},
   "source": [
    "### Problem Statement :"
   ]
  },
  {
   "cell_type": "markdown",
   "metadata": {},
   "source": [
    "Toronto is one of the biggest cities in Canada, and it is the most populous Canadian city, and offer a many Economic Opportunities! also If you're looking for a career in arts, culture or tech ... , Toronto may be a great choice.\n",
    "\n",
    "however, The percent of adults that had an overweight/obese status increased significantly in Toronto\n",
    "from 2007 to 2014, and it is always increasing until now! In fact, it is due to many reasons including the lack of restaurants wich provide healthy food.\n",
    "\n",
    "and normally to open a restaurant you must garanty accessibility and visibility, i mean a near parking and a high foot or car traffic is an ideal requirement, and it is hard to do that manualy, whereas if it is done with ML it will requires just a dataset and some processsing on it !\n"
   ]
  },
  {
   "cell_type": "markdown",
   "metadata": {},
   "source": [
    "### Target Audience :"
   ]
  },
  {
   "cell_type": "markdown",
   "metadata": {},
   "source": [
    "####          Who will be more interested in this project ?"
   ]
  },
  {
   "cell_type": "markdown",
   "metadata": {},
   "source": [
    "- people suffering from obesity\n",
    "\n",
    "- Many business man, investisors and intrepreneur youngs ( bescause as we said before Toronto offers many Economic Opportunities)\n",
    "\n",
    "- because Toronto is characterized by Multicultural Diversity, this project will br so profitable for people looking for healthy food such as chinese people (There are 631,050 Chinese in the Greater Toronto area)\n"
   ]
  },
  {
   "cell_type": "markdown",
   "metadata": {},
   "source": [
    "## 2 - Data section :"
   ]
  },
  {
   "cell_type": "markdown",
   "metadata": {},
   "source": [
    "To recommand a good location for a new healthy food restaurant, we will use a dataset of Toronto city wich contains informations about its Boroughs and Neighborhoods.\n",
    "\n",
    "we will also utilize the Foursquare location data, we are going to get the latitude and the longitude coordinates of each neighborhood, and merge this data with the previous one.\n",
    "\n",
    "always with the Faursquare data we gonna get informations about healthy restaurants in that city.\n"
   ]
  },
  {
   "cell_type": "markdown",
   "metadata": {},
   "source": [
    "### Data sources :"
   ]
  },
  {
   "cell_type": "markdown",
   "metadata": {},
   "source": [
    "1 - I will use a dataset of Toronto city wich contains informations about its Boroughs and Neighborhoods ((https://en.wikipedia.org/wiki/List_of_postal_codes_of_Canada:_M))\n",
    "\n",
    "2 - we will also utilize “https://cocl.us/Geospatial_data” csv file to get all the geographical coordinates of the neighborhoods.\n",
    "\n",
    "3 - I will also use Foursquare API to get data location and other information about restaurants in Toronto"
   ]
  }
 ],
 "metadata": {
  "kernelspec": {
   "display_name": "Python 3",
   "language": "python",
   "name": "python3"
  },
  "language_info": {
   "codemirror_mode": {
    "name": "ipython",
    "version": 3
   },
   "file_extension": ".py",
   "mimetype": "text/x-python",
   "name": "python",
   "nbconvert_exporter": "python",
   "pygments_lexer": "ipython3",
   "version": "3.6.5"
  }
 },
 "nbformat": 4,
 "nbformat_minor": 2
}
